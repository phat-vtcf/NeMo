{
  "cells": [
    {
      "cell_type": "markdown",
      "metadata": {
        "id": "wqcHnofEdenC"
      },
      "source": [
        "# Audio translator\n",
        "\n"
      ]
    },
    {
      "cell_type": "markdown",
      "metadata": {
        "id": "yLH2m2S2uLSQ"
      },
      "source": [
        "This notebook tests certain features from NeMo in the form of an audio translator. The translator takes in an audio file, and converts it into an audio file in the target language. "
      ]
    },
    {
      "cell_type": "markdown",
      "metadata": {
        "id": "9wzjxXSJENUT"
      },
      "source": [
        "You can find the online Google colab notebook for this demo [here](https://colab.research.google.com/drive/1nSxiTzLYxA9_PPsEK9VU-JIW9orPkVQ1?usp=sharing)"
      ]
    },
    {
      "cell_type": "markdown",
      "metadata": {
        "id": "wZkKGT44ub4b"
      },
      "source": [
        "# How does it work?"
      ]
    },
    {
      "cell_type": "markdown",
      "metadata": {
        "id": "4T19O-GPd1RT"
      },
      "source": [
        "The audio translator:\n",
        "\n",
        "*   Converts audio to written text using ASR\n",
        "*   Translates the written text to the target language\n",
        "*   Creates a TTS audio file in the target language from the translated text\n"
      ]
    },
    {
      "cell_type": "markdown",
      "metadata": {
        "id": "QL3G5sO6t5c1"
      },
      "source": [
        "For GPU purposes, this notebook works best on Google Colab with a recording that isn't too long (under 1 minute). \n",
        "\n",
        "If you you run into issues with your own recording, see if you can find a shorter one to check if that works. "
      ]
    },
    {
      "cell_type": "markdown",
      "metadata": {
        "id": "1xNyVHt8a4xL"
      },
      "source": [
        "# Importing the tools used"
      ]
    },
    {
      "cell_type": "markdown",
      "metadata": {
        "id": "OOpQYKqLejiy"
      },
      "source": [
        "First, let's install and import the right collections."
      ]
    },
    {
      "cell_type": "code",
      "execution_count": null,
      "metadata": {
        "colab": {
          "base_uri": "https://localhost:8080/",
          "height": 1000
        },
        "id": "YygRbAXseixG",
        "outputId": "3e56d81d-c8b8-40d4-8a6a-1fd007c17989"
      },
      "outputs": [],
      "source": [
        "!pip install nemo_toolkit[all]"
      ]
    },
    {
      "cell_type": "code",
      "execution_count": null,
      "metadata": {
        "colab": {
          "base_uri": "https://localhost:8080/"
        },
        "id": "HH29WALzgu0t",
        "outputId": "5db66de7-caaa-4c7d-ae1d-7a5c1e9d3b1e"
      },
      "outputs": [],
      "source": [
        "# From NeMo, we import the following:\n",
        "\n",
        "# Import NeMo and it's ASR, NLP and TTS collections\n",
        "import nemo\n",
        "# Import Speech Recognition collection\n",
        "import nemo.collections.asr as nemo_asr\n",
        "# Import Natural Language Processing colleciton\n",
        "import nemo.collections.nlp as nemo_nlp\n",
        "# Import Speech Synthesis collection\n",
        "import nemo.collections.tts as nemo_tts\n",
        "\n",
        "# To listen to our audio files\n",
        "import IPython"
      ]
    },
    {
      "cell_type": "markdown",
      "metadata": {
        "id": "Nyd0TtMrevAR"
      },
      "source": [
        "Next, we need to clarify which specific models from our collections we'd like to use. In our example, we use a Spanish recording as input, and we want our output to be in English."
      ]
    },
    {
      "cell_type": "markdown",
      "metadata": {
        "id": "7POYta0Iiaui"
      },
      "source": [
        "We need\n",
        "\n",
        "\n",
        "*   An ASR model in the language of our audiofile\n",
        "*   A translation model that translates from the language of our audiofile to our target language\n",
        "*   A spectogram generator in our target language\n",
        "*   A vocoder that can turn our spectogram into an audiofile\n",
        "\n",
        "\n",
        "\n"
      ]
    },
    {
      "cell_type": "code",
      "execution_count": null,
      "metadata": {
        "colab": {
          "base_uri": "https://localhost:8080/"
        },
        "id": "wl3NQEYChngZ",
        "outputId": "70786531-1c68-45db-cc72-6f1b155f3038"
      },
      "outputs": [],
      "source": [
        "# Speech Recognition model \n",
        "asr_model = nemo_asr.models.EncDecCTCModel.from_pretrained(model_name=\"stt_es_quartznet15x5\").cuda()\n",
        "\n",
        "# Neural Machine Translation model \n",
        "nmt_model = nemo_nlp.models.MTEncDecModel.from_pretrained(model_name='nmt_es_en_transformer12x2').cuda()\n",
        "\n",
        "# Spectrogram generator which takes text as an input and produces spectrogram\n",
        "spectrogram_generator = nemo_tts.models.FastPitchModel.from_pretrained(model_name=\"tts_en_fastpitch\").cuda()\n",
        "\n",
        "# Vocoder model which takes spectrogram and produces actual audio\n",
        "vocoder = nemo_tts.models.HifiGanModel.from_pretrained(model_name=\"tts_hifigan\").cuda()"
      ]
    },
    {
      "cell_type": "code",
      "execution_count": null,
      "metadata": {
        "id": "P3TnFykhgxXG"
      },
      "outputs": [],
      "source": [
        "# # If you'd like to use this with other models uncomment this block\n",
        "# nemo_nlp.models.MTEncDecModel.list_available_models()\n",
        "# nemo_asr.models.EncDecCTCModel.list_available_models()"
      ]
    },
    {
      "cell_type": "markdown",
      "metadata": {
        "id": "3mH2IEombe5s"
      },
      "source": [
        "# Let's start translating"
      ]
    },
    {
      "cell_type": "markdown",
      "metadata": {
        "id": "Qk7kKCcCbj2R"
      },
      "source": [
        "Add the path to the audio file you would like to have translated."
      ]
    },
    {
      "cell_type": "code",
      "execution_count": null,
      "metadata": {
        "colab": {
          "base_uri": "https://localhost:8080/"
        },
        "id": "lrA_O8t6f9wC",
        "outputId": "7a4863cc-36ea-41cc-ffd4-caba021c69b3"
      },
      "outputs": [],
      "source": [
        "# Feel free to add your own audio here, but if you don't have an audio sample yet, you can use the following\n",
        "!wget 'https://www.lightbulblanguages.co.uk/resources/sp-audio/tengo-once-anos.mp3'"
      ]
    },
    {
      "cell_type": "code",
      "execution_count": null,
      "metadata": {
        "colab": {
          "background_save": true
        },
        "id": "GvU8erXghAwl",
        "outputId": "c58ae831-6fed-46b5-9751-83aec0338170"
      },
      "outputs": [],
      "source": [
        "# Download audio sample which we'll try\n",
        "# IMPORTANT: The audio must be mono with 16Khz sampling rate\n",
        "audio_sample = 'tengo-once-anos.mp3'\n",
        "\n",
        "# To listen it, click on the play button below\n",
        "IPython.display.Audio(audio_sample)"
      ]
    },
    {
      "cell_type": "markdown",
      "metadata": {
        "id": "BQx2xF96bsnz"
      },
      "source": [
        "Next, we'll transcribe the text from the audio sample and print the transcribed text. "
      ]
    },
    {
      "cell_type": "code",
      "execution_count": null,
      "metadata": {
        "colab": {
          "base_uri": "https://localhost:8080/",
          "height": 188,
          "referenced_widgets": [
            "725ec43694264300902d9b243bd12ff1",
            "1ffc2df15698481e8ec230e8cd74402f",
            "2b8e9b4c9798429e813dd25687d63818",
            "7a4c3043a6084dd9b90ac88906c74bf5",
            "192559d70b0747aebfcefb31c925e07c",
            "151f3d45c9664db2bf88c7f613b70b49",
            "adf7858d6dc041da9261786acecd480d",
            "da9651b29fa5409ea1cceeeebe371712",
            "1a9130001ac64675bc42db566fc31bd8",
            "febe5adbe6034879b10250b08f14ef9e",
            "403f34fd91da46e190d5b299a70d35a3"
          ]
        },
        "id": "Bp6gD_AChOXy",
        "outputId": "d00a4b9a-407b-408c-9a8d-d32a1621be0a"
      },
      "outputs": [],
      "source": [
        "transcribed_text = asr_model.transcribe([audio_sample])\n",
        "print(transcribed_text)"
      ]
    },
    {
      "cell_type": "markdown",
      "metadata": {
        "id": "iP3UhV3_bxvu"
      },
      "source": [
        "Then, we translate the transcribed text to our target language."
      ]
    },
    {
      "cell_type": "code",
      "execution_count": null,
      "metadata": {
        "colab": {
          "base_uri": "https://localhost:8080/"
        },
        "id": "07BvupNEhQiK",
        "outputId": "32c719c9-0a08-44ae-8d27-20b4054c6f6f"
      },
      "outputs": [],
      "source": [
        "english_text = nmt_model.translate(transcribed_text)\n",
        "print(english_text)"
      ]
    },
    {
      "cell_type": "markdown",
      "metadata": {
        "id": "NfbKr4UDb4j-"
      },
      "source": [
        "Lastly, we convert the translated into speech using a spectogram generator and a vocoder. "
      ]
    },
    {
      "cell_type": "code",
      "execution_count": null,
      "metadata": {
        "id": "xo_tWO5shSbg"
      },
      "outputs": [],
      "source": [
        "# A helper function which combines FastPitch and HifiGan to go directly from \n",
        "# text to audio\n",
        "def text_to_audio(text):\n",
        "  parsed = spectrogram_generator.parse(text)\n",
        "  spectrogram = spectrogram_generator.generate_spectrogram(tokens=parsed)\n",
        "  audio = vocoder.convert_spectrogram_to_audio(spec=spectrogram)\n",
        "  return audio.to('cpu').detach().numpy()"
      ]
    },
    {
      "cell_type": "markdown",
      "metadata": {
        "id": "QYWM_kc7cENY"
      },
      "source": [
        "Now we have our output"
      ]
    },
    {
      "cell_type": "code",
      "execution_count": null,
      "metadata": {
        "colab": {
          "base_uri": "https://localhost:8080/",
          "height": 75
        },
        "id": "0umai3lahUbe",
        "outputId": "78532c63-c0bc-4ac5-87b1-c75f9bce14d3"
      },
      "outputs": [],
      "source": [
        "# Listen to generated audio in English\n",
        "IPython.display.Audio(text_to_audio(english_text[0]), rate=22050)"
      ]
    }
  ],
  "metadata": {
    "accelerator": "GPU",
    "colab": {
      "collapsed_sections": [],
      "name": "audio_translation_demo.ipynb",
      "provenance": []
    },
    "kernelspec": {
      "display_name": "Python 3",
      "name": "python3"
    },
    "language_info": {
      "codemirror_mode": {
        "name": "ipython",
        "version": 3
      },
      "file_extension": ".py",
      "mimetype": "text/x-python",
      "name": "python",
      "nbconvert_exporter": "python",
      "pygments_lexer": "ipython3",
      "version": "3.9.7"
    },
    "widgets": {
      "application/vnd.jupyter.widget-state+json": {
        "151f3d45c9664db2bf88c7f613b70b49": {
          "model_module": "@jupyter-widgets/base",
          "model_module_version": "1.2.0",
          "model_name": "LayoutModel",
          "state": {
            "_model_module": "@jupyter-widgets/base",
            "_model_module_version": "1.2.0",
            "_model_name": "LayoutModel",
            "_view_count": null,
            "_view_module": "@jupyter-widgets/base",
            "_view_module_version": "1.2.0",
            "_view_name": "LayoutView",
            "align_content": null,
            "align_items": null,
            "align_self": null,
            "border": null,
            "bottom": null,
            "display": null,
            "flex": null,
            "flex_flow": null,
            "grid_area": null,
            "grid_auto_columns": null,
            "grid_auto_flow": null,
            "grid_auto_rows": null,
            "grid_column": null,
            "grid_gap": null,
            "grid_row": null,
            "grid_template_areas": null,
            "grid_template_columns": null,
            "grid_template_rows": null,
            "height": null,
            "justify_content": null,
            "justify_items": null,
            "left": null,
            "margin": null,
            "max_height": null,
            "max_width": null,
            "min_height": null,
            "min_width": null,
            "object_fit": null,
            "object_position": null,
            "order": null,
            "overflow": null,
            "overflow_x": null,
            "overflow_y": null,
            "padding": null,
            "right": null,
            "top": null,
            "visibility": null,
            "width": null
          }
        },
        "192559d70b0747aebfcefb31c925e07c": {
          "model_module": "@jupyter-widgets/base",
          "model_module_version": "1.2.0",
          "model_name": "LayoutModel",
          "state": {
            "_model_module": "@jupyter-widgets/base",
            "_model_module_version": "1.2.0",
            "_model_name": "LayoutModel",
            "_view_count": null,
            "_view_module": "@jupyter-widgets/base",
            "_view_module_version": "1.2.0",
            "_view_name": "LayoutView",
            "align_content": null,
            "align_items": null,
            "align_self": null,
            "border": null,
            "bottom": null,
            "display": null,
            "flex": null,
            "flex_flow": null,
            "grid_area": null,
            "grid_auto_columns": null,
            "grid_auto_flow": null,
            "grid_auto_rows": null,
            "grid_column": null,
            "grid_gap": null,
            "grid_row": null,
            "grid_template_areas": null,
            "grid_template_columns": null,
            "grid_template_rows": null,
            "height": null,
            "justify_content": null,
            "justify_items": null,
            "left": null,
            "margin": null,
            "max_height": null,
            "max_width": null,
            "min_height": null,
            "min_width": null,
            "object_fit": null,
            "object_position": null,
            "order": null,
            "overflow": null,
            "overflow_x": null,
            "overflow_y": null,
            "padding": null,
            "right": null,
            "top": null,
            "visibility": null,
            "width": null
          }
        },
        "1a9130001ac64675bc42db566fc31bd8": {
          "model_module": "@jupyter-widgets/controls",
          "model_module_version": "1.5.0",
          "model_name": "ProgressStyleModel",
          "state": {
            "_model_module": "@jupyter-widgets/controls",
            "_model_module_version": "1.5.0",
            "_model_name": "ProgressStyleModel",
            "_view_count": null,
            "_view_module": "@jupyter-widgets/base",
            "_view_module_version": "1.2.0",
            "_view_name": "StyleView",
            "bar_color": null,
            "description_width": ""
          }
        },
        "1ffc2df15698481e8ec230e8cd74402f": {
          "model_module": "@jupyter-widgets/controls",
          "model_module_version": "1.5.0",
          "model_name": "HTMLModel",
          "state": {
            "_dom_classes": [],
            "_model_module": "@jupyter-widgets/controls",
            "_model_module_version": "1.5.0",
            "_model_name": "HTMLModel",
            "_view_count": null,
            "_view_module": "@jupyter-widgets/controls",
            "_view_module_version": "1.5.0",
            "_view_name": "HTMLView",
            "description": "",
            "description_tooltip": null,
            "layout": "IPY_MODEL_151f3d45c9664db2bf88c7f613b70b49",
            "placeholder": "​",
            "style": "IPY_MODEL_adf7858d6dc041da9261786acecd480d",
            "value": "Transcribing: 100%"
          }
        },
        "2b8e9b4c9798429e813dd25687d63818": {
          "model_module": "@jupyter-widgets/controls",
          "model_module_version": "1.5.0",
          "model_name": "FloatProgressModel",
          "state": {
            "_dom_classes": [],
            "_model_module": "@jupyter-widgets/controls",
            "_model_module_version": "1.5.0",
            "_model_name": "FloatProgressModel",
            "_view_count": null,
            "_view_module": "@jupyter-widgets/controls",
            "_view_module_version": "1.5.0",
            "_view_name": "ProgressView",
            "bar_style": "success",
            "description": "",
            "description_tooltip": null,
            "layout": "IPY_MODEL_da9651b29fa5409ea1cceeeebe371712",
            "max": 1,
            "min": 0,
            "orientation": "horizontal",
            "style": "IPY_MODEL_1a9130001ac64675bc42db566fc31bd8",
            "value": 1
          }
        },
        "403f34fd91da46e190d5b299a70d35a3": {
          "model_module": "@jupyter-widgets/controls",
          "model_module_version": "1.5.0",
          "model_name": "DescriptionStyleModel",
          "state": {
            "_model_module": "@jupyter-widgets/controls",
            "_model_module_version": "1.5.0",
            "_model_name": "DescriptionStyleModel",
            "_view_count": null,
            "_view_module": "@jupyter-widgets/base",
            "_view_module_version": "1.2.0",
            "_view_name": "StyleView",
            "description_width": ""
          }
        },
        "725ec43694264300902d9b243bd12ff1": {
          "model_module": "@jupyter-widgets/controls",
          "model_module_version": "1.5.0",
          "model_name": "HBoxModel",
          "state": {
            "_dom_classes": [],
            "_model_module": "@jupyter-widgets/controls",
            "_model_module_version": "1.5.0",
            "_model_name": "HBoxModel",
            "_view_count": null,
            "_view_module": "@jupyter-widgets/controls",
            "_view_module_version": "1.5.0",
            "_view_name": "HBoxView",
            "box_style": "",
            "children": [
              "IPY_MODEL_1ffc2df15698481e8ec230e8cd74402f",
              "IPY_MODEL_2b8e9b4c9798429e813dd25687d63818",
              "IPY_MODEL_7a4c3043a6084dd9b90ac88906c74bf5"
            ],
            "layout": "IPY_MODEL_192559d70b0747aebfcefb31c925e07c"
          }
        },
        "7a4c3043a6084dd9b90ac88906c74bf5": {
          "model_module": "@jupyter-widgets/controls",
          "model_module_version": "1.5.0",
          "model_name": "HTMLModel",
          "state": {
            "_dom_classes": [],
            "_model_module": "@jupyter-widgets/controls",
            "_model_module_version": "1.5.0",
            "_model_name": "HTMLModel",
            "_view_count": null,
            "_view_module": "@jupyter-widgets/controls",
            "_view_module_version": "1.5.0",
            "_view_name": "HTMLView",
            "description": "",
            "description_tooltip": null,
            "layout": "IPY_MODEL_febe5adbe6034879b10250b08f14ef9e",
            "placeholder": "​",
            "style": "IPY_MODEL_403f34fd91da46e190d5b299a70d35a3",
            "value": " 1/1 [00:02&lt;00:00,  2.65s/it]"
          }
        },
        "adf7858d6dc041da9261786acecd480d": {
          "model_module": "@jupyter-widgets/controls",
          "model_module_version": "1.5.0",
          "model_name": "DescriptionStyleModel",
          "state": {
            "_model_module": "@jupyter-widgets/controls",
            "_model_module_version": "1.5.0",
            "_model_name": "DescriptionStyleModel",
            "_view_count": null,
            "_view_module": "@jupyter-widgets/base",
            "_view_module_version": "1.2.0",
            "_view_name": "StyleView",
            "description_width": ""
          }
        },
        "da9651b29fa5409ea1cceeeebe371712": {
          "model_module": "@jupyter-widgets/base",
          "model_module_version": "1.2.0",
          "model_name": "LayoutModel",
          "state": {
            "_model_module": "@jupyter-widgets/base",
            "_model_module_version": "1.2.0",
            "_model_name": "LayoutModel",
            "_view_count": null,
            "_view_module": "@jupyter-widgets/base",
            "_view_module_version": "1.2.0",
            "_view_name": "LayoutView",
            "align_content": null,
            "align_items": null,
            "align_self": null,
            "border": null,
            "bottom": null,
            "display": null,
            "flex": null,
            "flex_flow": null,
            "grid_area": null,
            "grid_auto_columns": null,
            "grid_auto_flow": null,
            "grid_auto_rows": null,
            "grid_column": null,
            "grid_gap": null,
            "grid_row": null,
            "grid_template_areas": null,
            "grid_template_columns": null,
            "grid_template_rows": null,
            "height": null,
            "justify_content": null,
            "justify_items": null,
            "left": null,
            "margin": null,
            "max_height": null,
            "max_width": null,
            "min_height": null,
            "min_width": null,
            "object_fit": null,
            "object_position": null,
            "order": null,
            "overflow": null,
            "overflow_x": null,
            "overflow_y": null,
            "padding": null,
            "right": null,
            "top": null,
            "visibility": null,
            "width": null
          }
        },
        "febe5adbe6034879b10250b08f14ef9e": {
          "model_module": "@jupyter-widgets/base",
          "model_module_version": "1.2.0",
          "model_name": "LayoutModel",
          "state": {
            "_model_module": "@jupyter-widgets/base",
            "_model_module_version": "1.2.0",
            "_model_name": "LayoutModel",
            "_view_count": null,
            "_view_module": "@jupyter-widgets/base",
            "_view_module_version": "1.2.0",
            "_view_name": "LayoutView",
            "align_content": null,
            "align_items": null,
            "align_self": null,
            "border": null,
            "bottom": null,
            "display": null,
            "flex": null,
            "flex_flow": null,
            "grid_area": null,
            "grid_auto_columns": null,
            "grid_auto_flow": null,
            "grid_auto_rows": null,
            "grid_column": null,
            "grid_gap": null,
            "grid_row": null,
            "grid_template_areas": null,
            "grid_template_columns": null,
            "grid_template_rows": null,
            "height": null,
            "justify_content": null,
            "justify_items": null,
            "left": null,
            "margin": null,
            "max_height": null,
            "max_width": null,
            "min_height": null,
            "min_width": null,
            "object_fit": null,
            "object_position": null,
            "order": null,
            "overflow": null,
            "overflow_x": null,
            "overflow_y": null,
            "padding": null,
            "right": null,
            "top": null,
            "visibility": null,
            "width": null
          }
        }
      }
    }
  },
  "nbformat": 4,
  "nbformat_minor": 0
}
